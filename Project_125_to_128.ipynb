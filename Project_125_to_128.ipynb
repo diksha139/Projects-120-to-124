{
  "cells": [
    {
      "cell_type": "markdown",
      "metadata": {
        "id": "view-in-github",
        "colab_type": "text"
      },
      "source": [
        "<a href=\"https://colab.research.google.com/github/diksha139/Projects-120-to-124/blob/main/Project_125_to_128.ipynb\" target=\"_parent\"><img src=\"https://colab.research.google.com/assets/colab-badge.svg\" alt=\"Open In Colab\"/></a>"
      ]
    },
    {
      "cell_type": "code",
      "execution_count": 2,
      "metadata": {
        "colab": {
          "base_uri": "https://localhost:8080/"
        },
        "id": "PC43O4YXfmoa",
        "outputId": "bbcafc1a-fcbb-42d0-d878-2fc39d5ca702"
      },
      "outputs": [
        {
          "output_type": "stream",
          "name": "stdout",
          "text": [
            "fatal: destination path 'Pro-M3-Hurricane-Damage-Dataset' already exists and is not an empty directory.\n"
          ]
        }
      ],
      "source": [
        "!git clone https://github.com/procodingclass/Pro-M3-Hurricane-Damage-Dataset"
      ]
    },
    {
      "cell_type": "code",
      "execution_count": 3,
      "metadata": {
        "colab": {
          "base_uri": "https://localhost:8080/"
        },
        "id": "tUbEOKzVhYMQ",
        "outputId": "25ca330a-1e3c-4576-8f51-607e07f1c92f"
      },
      "outputs": [
        {
          "output_type": "stream",
          "name": "stdout",
          "text": [
            "Found 300 images belonging to 2 classes.\n"
          ]
        }
      ],
      "source": [
        "#Training data\n",
        "import tensorflow as tf\n",
        "from tensorflow.keras.preprocessing.image import ImageDataGenerator\n",
        "from tensorflow.keras.preprocessing.image import img_to_array, load_img\n",
        "\n",
        "\n",
        "# Random Data Augmentation(Rescale, Rotation, Flips, Zoom, Shifts) using ImageDataGenerator \n",
        "training_data_generator = ImageDataGenerator(\n",
        "    rescale = 1.0/255,\n",
        "    rotation_range=40,\n",
        "    width_shift_range=0.3,\n",
        "    height_shift_range=0.3,\n",
        "    zoom_range=0.3,\n",
        "    horizontal_flip=True,\n",
        "    vertical_flip=True,\n",
        "    fill_mode='nearest')\n",
        "\n",
        "\n",
        "# Image Directory\n",
        "training_image_directory = \"/content/Pro-M3-Hurricane-Damage-Dataset/train\"\n",
        "\n",
        "# Generate Preprocessed Augmented Data\n",
        "training_augmented_images = training_data_generator.flow_from_directory(\n",
        "    training_image_directory,\n",
        "    target_size=(180,180))"
      ]
    },
    {
      "cell_type": "code",
      "execution_count": 4,
      "metadata": {
        "colab": {
          "base_uri": "https://localhost:8080/"
        },
        "id": "os3jEJB7hnvM",
        "outputId": "c6ba8ea5-e64a-4a12-cf8c-ecf12910d65d"
      },
      "outputs": [
        {
          "output_type": "stream",
          "name": "stdout",
          "text": [
            "Found 300 images belonging to 2 classes.\n"
          ]
        }
      ],
      "source": [
        "#Data validation\n",
        "# Random Data Augmentation(Rescale) using ImageDataGenerator\n",
        "validation_data_generator = ImageDataGenerator(rescale = 1.0/255)\n",
        "\n",
        "# Image Directory\n",
        "validation_image_directory = \"/content/Pro-M3-Hurricane-Damage-Dataset/validate\"\n",
        "\n",
        "# Generate Preprocessed Augmented Data\n",
        "validation_augmented_images = validation_data_generator.flow_from_directory(\n",
        "    validation_image_directory,\n",
        "    target_size=(180,180))"
      ]
    },
    {
      "cell_type": "code",
      "execution_count": 5,
      "metadata": {
        "colab": {
          "base_uri": "https://localhost:8080/"
        },
        "id": "0_DunWIFiEhf",
        "outputId": "ca932cce-7808-44c0-af6f-1e7b97f409d0"
      },
      "outputs": [
        {
          "output_type": "execute_result",
          "data": {
            "text/plain": [
              "{'damage': 0, 'no_damage': 1}"
            ]
          },
          "metadata": {},
          "execution_count": 5
        }
      ],
      "source": [
        "#class labels\n",
        "training_augmented_images.class_indices"
      ]
    },
    {
      "cell_type": "code",
      "execution_count": 6,
      "metadata": {
        "id": "lxxfEvA-iO3M"
      },
      "outputs": [],
      "source": [
        "#Define CNN\n",
        "import tensorflow as tf\n",
        "model = tf.keras.models.Sequential([\n",
        "    \n",
        "    # 1st Convolution & Pooling layer\n",
        "    tf.keras.layers.Conv2D(64, (3,3), activation='relu', input_shape=(180, 180, 3)),\n",
        "    tf.keras.layers.MaxPooling2D(2, 2),\n",
        "\n",
        "    # 2nd Convolution & Pooling layer\n",
        "    tf.keras.layers.Conv2D(64, (3,3), activation='relu'),\n",
        "    tf.keras.layers.MaxPooling2D(2,2),\n",
        "\n",
        "    # 3rd Convolution & Pooling layer\n",
        "    tf.keras.layers.Conv2D(128, (3,3), activation='relu'),\n",
        "    tf.keras.layers.MaxPooling2D(2,2),\n",
        "\n",
        "    # 4th Convolution & Pooling layer\n",
        "    tf.keras.layers.Conv2D(128, (3,3), activation='relu'),\n",
        "    tf.keras.layers.MaxPooling2D(2,2),\n",
        "\n",
        "    # Flatten the results to feed into a Dense Layer\n",
        "    tf.keras.layers.Flatten(),\n",
        "    tf.keras.layers.Dropout(0.5),\n",
        "\n",
        "    # Classification Layer\n",
        "    tf.keras.layers.Dense(512, activation='relu'),\n",
        "    tf.keras.layers.Dense(2, activation='sigmoid')\n",
        "])"
      ]
    },
    {
      "cell_type": "code",
      "execution_count": 7,
      "metadata": {
        "colab": {
          "base_uri": "https://localhost:8080/"
        },
        "id": "-mPX8Koujp8f",
        "outputId": "d7672db7-ff04-430f-8489-94d1d3199dc9"
      },
      "outputs": [
        {
          "output_type": "stream",
          "name": "stdout",
          "text": [
            "Model: \"sequential\"\n",
            "_________________________________________________________________\n",
            " Layer (type)                Output Shape              Param #   \n",
            "=================================================================\n",
            " conv2d (Conv2D)             (None, 178, 178, 64)      1792      \n",
            "                                                                 \n",
            " max_pooling2d (MaxPooling2D  (None, 89, 89, 64)       0         \n",
            " )                                                               \n",
            "                                                                 \n",
            " conv2d_1 (Conv2D)           (None, 87, 87, 64)        36928     \n",
            "                                                                 \n",
            " max_pooling2d_1 (MaxPooling  (None, 43, 43, 64)       0         \n",
            " 2D)                                                             \n",
            "                                                                 \n",
            " conv2d_2 (Conv2D)           (None, 41, 41, 128)       73856     \n",
            "                                                                 \n",
            " max_pooling2d_2 (MaxPooling  (None, 20, 20, 128)      0         \n",
            " 2D)                                                             \n",
            "                                                                 \n",
            " conv2d_3 (Conv2D)           (None, 18, 18, 128)       147584    \n",
            "                                                                 \n",
            " max_pooling2d_3 (MaxPooling  (None, 9, 9, 128)        0         \n",
            " 2D)                                                             \n",
            "                                                                 \n",
            " flatten (Flatten)           (None, 10368)             0         \n",
            "                                                                 \n",
            " dropout (Dropout)           (None, 10368)             0         \n",
            "                                                                 \n",
            " dense (Dense)               (None, 512)               5308928   \n",
            "                                                                 \n",
            " dense_1 (Dense)             (None, 2)                 1026      \n",
            "                                                                 \n",
            "=================================================================\n",
            "Total params: 5,570,114\n",
            "Trainable params: 5,570,114\n",
            "Non-trainable params: 0\n",
            "_________________________________________________________________\n"
          ]
        }
      ],
      "source": [
        "model.summary()"
      ]
    },
    {
      "cell_type": "code",
      "execution_count": 8,
      "metadata": {
        "id": "vH4NmyA6jvmb"
      },
      "outputs": [],
      "source": [
        "#Compile Model\n",
        "model.compile(loss='binary_crossentropy', optimizer='adam', metrics=['accuracy'])"
      ]
    },
    {
      "cell_type": "code",
      "execution_count": null,
      "metadata": {
        "colab": {
          "base_uri": "https://localhost:8080/"
        },
        "id": "rcsJO70Mj371",
        "outputId": "7be0b185-7775-4838-c6ae-ca1e82c67fa1"
      },
      "outputs": [
        {
          "output_type": "stream",
          "name": "stdout",
          "text": [
            "Epoch 1/20\n",
            "10/10 [==============================] - 43s 4s/step - loss: 0.7646 - accuracy: 0.4500 - val_loss: 0.6917 - val_accuracy: 0.5000\n",
            "Epoch 2/20\n",
            "10/10 [==============================] - 44s 4s/step - loss: 0.6909 - accuracy: 0.5067 - val_loss: 0.6911 - val_accuracy: 0.7667\n",
            "Epoch 3/20\n",
            "10/10 [==============================] - 41s 4s/step - loss: 0.6873 - accuracy: 0.5133 - val_loss: 0.6807 - val_accuracy: 0.5000\n",
            "Epoch 4/20\n",
            "10/10 [==============================] - 41s 4s/step - loss: 0.6803 - accuracy: 0.5467 - val_loss: 0.6842 - val_accuracy: 0.7700\n",
            "Epoch 5/20\n",
            " 2/10 [=====>........................] - ETA: 28s - loss: 0.6821 - accuracy: 0.7969"
          ]
        }
      ],
      "source": [
        "history = model.fit(training_augmented_images, epochs=20, \n",
        "                    validation_data = validation_augmented_images, \n",
        "                    verbose=True)\n",
        "\n",
        "model.save(\"damage.h5\")"
      ]
    },
    {
      "cell_type": "code",
      "execution_count": null,
      "metadata": {
        "id": "OFPU-wkpj8bv"
      },
      "outputs": [],
      "source": [
        "training_augmented_images.class_indices"
      ]
    },
    {
      "cell_type": "code",
      "execution_count": null,
      "metadata": {
        "id": "-U38f_TwqzRZ"
      },
      "outputs": [],
      "source": [
        "import os\n",
        "import numpy as np\n",
        "\n",
        "from matplotlib import pyplot\n",
        "from matplotlib.image import imread\n",
        "\n",
        "import tensorflow\n",
        "from tensorflow.keras.preprocessing.image import load_img\n",
        "\n",
        "from tensorflow.keras.preprocessing.image import img_to_array\n",
        "\n",
        "# Testing image directory\n",
        "testing_image_directory = '/content/Pro-M3-Hurricane-Damage-Dataset/test/damage'\n",
        "\n",
        "# All image files in the directory\n",
        "img_files = os.listdir(testing_image_directory)    \n",
        "\n",
        "i= 0\n",
        "\n",
        "# Loop through an 9 image files\n",
        "for file in img_files[51:60]:\n",
        "\n",
        "  # full path of the image\n",
        "  img_files_path = os.path.join(testing_image_directory, file)\n",
        "\n",
        "  # load image \n",
        "  img_1 = load_img(img_files_path,target_size=(180, 180))\n",
        "\n",
        "  # convert image to an array\n",
        "  img_2 = img_to_array(img_1)\n",
        "\n",
        "\n",
        "  # increase the dimension\n",
        "  img_3 = np.expand_dims(img_2, axis=0)\n",
        "\n",
        "  \n",
        "  # predict the class of an unseen image\n",
        "  prediction = model.predict(img_3)\n",
        "\n",
        "  \n",
        "  # print(predict_class)\n",
        "  predict_class = np.argmaxi(prediction, axis=1)\n",
        "\n",
        "  # plot the image using subplot\n",
        "  pyplot.subplot(3, 3, i+1)\n",
        "  pyplot.imshow(img_2.astype('uint8'))\n",
        "  \n",
        "  # Add title of the plot as predicted class value\n",
        "  pyplot.title(predict_class[0])\n",
        "\n",
        "\n",
        "  # Do not show x and y axis with the image\n",
        "  pyplot.axis('off')\n",
        "\n",
        "  i=i+1\n",
        "\n",
        "pyplot.show()"
      ]
    }
  ],
  "metadata": {
    "colab": {
      "provenance": [],
      "include_colab_link": true
    },
    "kernelspec": {
      "display_name": "Python 3",
      "name": "python3"
    },
    "language_info": {
      "name": "python"
    }
  },
  "nbformat": 4,
  "nbformat_minor": 0
}